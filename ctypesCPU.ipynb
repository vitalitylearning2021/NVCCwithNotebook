{
  "nbformat": 4,
  "nbformat_minor": 0,
  "metadata": {
    "colab": {
      "provenance": []
    },
    "kernelspec": {
      "name": "python3",
      "display_name": "Python 3"
    },
    "language_info": {
      "name": "python"
    }
  },
  "cells": [
    {
      "cell_type": "code",
      "execution_count": null,
      "metadata": {
        "colab": {
          "base_uri": "https://localhost:8080/"
        },
        "id": "M2dCWt5HvUM0",
        "outputId": "6b41bb95-9d1f-4006-e66e-ea89a3631378"
      },
      "outputs": [
        {
          "output_type": "stream",
          "name": "stdout",
          "text": [
            "Writing sumArrayCPU.cpp\n"
          ]
        }
      ],
      "source": [
        "%%writefile sumArrayCPU.cpp\n",
        "#include <iostream>\n",
        "\n",
        "extern \"C\" {\n",
        "  int sumArrays(int* arr1, int* arr2, int* result, int size) {\n",
        "      for (int i = 0; i < size; ++i) {\n",
        "          result[i] = arr1[i] + arr2[i];\n",
        "      }\n",
        "      return 0;\n",
        "  }\n",
        "}"
      ]
    },
    {
      "cell_type": "code",
      "source": [
        "!g++ -shared -fPIC -o sumArrayCPU.so sumArrayCPU.cpp"
      ],
      "metadata": {
        "id": "Q9CrdKxevyR9"
      },
      "execution_count": null,
      "outputs": []
    },
    {
      "cell_type": "code",
      "source": [
        "# Load the compiled C++ code\n",
        "from ctypes import CDLL, c_int, POINTER\n",
        "\n",
        "# Load the shared library\n",
        "cpp_lib = CDLL('./sumArrayCPU.so')\n",
        "\n",
        "# Define the types for the function\n",
        "cpp_lib.sumArrays.argtypes = [POINTER(c_int), POINTER(c_int), POINTER(c_int), c_int]\n",
        "cpp_lib.sumArrays.restype = c_int\n",
        "\n",
        "def sum_arrays(arr1, arr2):\n",
        "    # Convert Python lists to C arrays\n",
        "    arr1_c = (c_int * len(arr1))(*arr1)\n",
        "    arr2_c = (c_int * len(arr2))(*arr2)\n",
        "\n",
        "    # Prepare the result array\n",
        "    result_c = (c_int * len(arr1))()\n",
        "\n",
        "    # Call the C++ function\n",
        "    cpp_lib.sumArrays(arr1_c, arr2_c, result_c, len(arr1))\n",
        "\n",
        "    # Convert the result C array to a Python list\n",
        "    result = list(result_c)\n",
        "\n",
        "    return result\n",
        "\n",
        "# Example usage\n",
        "arr1 = [1, 2, 3, 4]\n",
        "arr2 = [5, 6, 7, 8]\n",
        "\n",
        "result = sum_arrays(arr1, arr2)\n",
        "print(result)"
      ],
      "metadata": {
        "colab": {
          "base_uri": "https://localhost:8080/"
        },
        "id": "ANVsPL_fv3qk",
        "outputId": "73985b97-989d-4b0c-f183-56a267757b45"
      },
      "execution_count": null,
      "outputs": [
        {
          "output_type": "stream",
          "name": "stdout",
          "text": [
            "[6, 8, 10, 12]\n"
          ]
        }
      ]
    }
  ]
}