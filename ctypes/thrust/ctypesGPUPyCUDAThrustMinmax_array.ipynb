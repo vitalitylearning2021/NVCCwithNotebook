{
  "nbformat": 4,
  "nbformat_minor": 0,
  "metadata": {
    "colab": {
      "provenance": [],
      "gpuType": "T4"
    },
    "kernelspec": {
      "name": "python3",
      "display_name": "Python 3"
    },
    "language_info": {
      "name": "python"
    },
    "accelerator": "GPU"
  },
  "cells": [
    {
      "cell_type": "code",
      "source": [
        "!pip install pycuda"
      ],
      "metadata": {
        "colab": {
          "base_uri": "https://localhost:8080/"
        },
        "id": "axXhTteb-MJe",
        "outputId": "598e4ffb-5107-4200-bc50-e04415c61514"
      },
      "execution_count": 1,
      "outputs": [
        {
          "output_type": "stream",
          "name": "stdout",
          "text": [
            "Collecting pycuda\n",
            "  Downloading pycuda-2022.2.2.tar.gz (1.7 MB)\n",
            "\u001b[2K     \u001b[90m━━━━━━━━━━━━━━━━━━━━━━━━━━━━━━━━━━━━━━━━\u001b[0m \u001b[32m1.7/1.7 MB\u001b[0m \u001b[31m22.1 MB/s\u001b[0m eta \u001b[36m0:00:00\u001b[0m\n",
            "\u001b[?25h  Installing build dependencies ... \u001b[?25l\u001b[?25hdone\n",
            "  Getting requirements to build wheel ... \u001b[?25l\u001b[?25hdone\n",
            "  Preparing metadata (pyproject.toml) ... \u001b[?25l\u001b[?25hdone\n",
            "Collecting pytools>=2011.2 (from pycuda)\n",
            "  Downloading pytools-2023.1.1-py2.py3-none-any.whl (70 kB)\n",
            "\u001b[2K     \u001b[90m━━━━━━━━━━━━━━━━━━━━━━━━━━━━━━━━━━━━━━━━\u001b[0m \u001b[32m70.6/70.6 kB\u001b[0m \u001b[31m9.5 MB/s\u001b[0m eta \u001b[36m0:00:00\u001b[0m\n",
            "\u001b[?25hRequirement already satisfied: appdirs>=1.4.0 in /usr/local/lib/python3.10/dist-packages (from pycuda) (1.4.4)\n",
            "Collecting mako (from pycuda)\n",
            "  Downloading Mako-1.2.4-py3-none-any.whl (78 kB)\n",
            "\u001b[2K     \u001b[90m━━━━━━━━━━━━━━━━━━━━━━━━━━━━━━━━━━━━━━━━\u001b[0m \u001b[32m78.7/78.7 kB\u001b[0m \u001b[31m11.2 MB/s\u001b[0m eta \u001b[36m0:00:00\u001b[0m\n",
            "\u001b[?25hRequirement already satisfied: platformdirs>=2.2.0 in /usr/local/lib/python3.10/dist-packages (from pytools>=2011.2->pycuda) (3.11.0)\n",
            "Requirement already satisfied: typing-extensions>=4.0 in /usr/local/lib/python3.10/dist-packages (from pytools>=2011.2->pycuda) (4.5.0)\n",
            "Requirement already satisfied: MarkupSafe>=0.9.2 in /usr/local/lib/python3.10/dist-packages (from mako->pycuda) (2.1.3)\n",
            "Building wheels for collected packages: pycuda\n",
            "  Building wheel for pycuda (pyproject.toml) ... \u001b[?25l\u001b[?25hdone\n",
            "  Created wheel for pycuda: filename=pycuda-2022.2.2-cp310-cp310-linux_x86_64.whl size=661265 sha256=f95df2e453c8bd66951d0c45f712e50c704d4af29bec80ccc628299a143548b5\n",
            "  Stored in directory: /root/.cache/pip/wheels/1d/7b/06/82a395a243fce00035dea9914d92bbef0013401497d849f8bc\n",
            "Successfully built pycuda\n",
            "Installing collected packages: pytools, mako, pycuda\n",
            "Successfully installed mako-1.2.4 pycuda-2022.2.2 pytools-2023.1.1\n"
          ]
        }
      ]
    },
    {
      "cell_type": "code",
      "source": [
        "%%writefile Minmax_array.cu\n",
        "\n",
        "#include <thrust/pair.h>\n",
        "#include <thrust/device_vector.h>\n",
        "#include <thrust/extrema.h>\n",
        "\n",
        "// Wrapper function to call the Thrust function\n",
        "extern \"C\" void my_cuda_function(float *d_a, float& minel, float& maxel, const int N) {\n",
        "\n",
        "\tthrust::pair<thrust::device_ptr<float>, thrust::device_ptr<float>> tuple;\n",
        "\ttuple = thrust::minmax_element(thrust::device_pointer_cast(d_a), thrust::device_pointer_cast(d_a) + N);\n",
        "\tminel = tuple.first[0];\n",
        "\tmaxel = tuple.second[0]; }"
      ],
      "metadata": {
        "colab": {
          "base_uri": "https://localhost:8080/"
        },
        "id": "wGfi2JOB_Dr2",
        "outputId": "58bb4b64-cfe8-453f-991a-93b8471729c8"
      },
      "execution_count": 23,
      "outputs": [
        {
          "output_type": "stream",
          "name": "stdout",
          "text": [
            "Overwriting Minmax_array.cu\n"
          ]
        }
      ]
    },
    {
      "cell_type": "code",
      "source": [
        "!nvcc -arch=sm_75 -o Minmax_array.so -shared -Xcompiler -fPIC Minmax_array.cu"
      ],
      "metadata": {
        "id": "S-7aSCdg17iK"
      },
      "execution_count": 24,
      "outputs": []
    },
    {
      "cell_type": "code",
      "source": [
        "import ctypes\n",
        "import pycuda.gpuarray as gpuarray\n",
        "import pycuda.driver as cuda\n",
        "from pycuda.compiler import SourceModule\n",
        "import pycuda.autoinit\n",
        "\n",
        "import numpy as np\n",
        "\n",
        "# Load the CUDA library\n",
        "cuda_lib = ctypes.CDLL('./Minmax_array.so')  # Update with the correct path\n",
        "\n",
        "minel = ctypes.c_float(0.)\n",
        "maxel = ctypes.c_float(0.)\n",
        "\n",
        "# Define the function prototype\n",
        "cuda_lib.my_cuda_function.argtypes = [ctypes.POINTER(ctypes.c_float), ctypes.POINTER(ctypes.c_float), ctypes.POINTER(ctypes.c_float), ctypes.c_int]\n",
        "cuda_lib.my_cuda_function.restype = None\n",
        "\n",
        "# Prepare data\n",
        "input_data = np.array([3, 1, 33, -4]).astype(np.float32)\n",
        "size = len(input_data)\n",
        "\n",
        "# Use PyCUDA to allocate GPU memory\n",
        "input_gpu   = gpuarray.to_gpu(input_data)\n",
        "\n",
        "# Call the CUDA function\n",
        "test = cuda_lib.my_cuda_function(ctypes.cast(input_gpu.ptr, ctypes.POINTER(ctypes.c_float)), ctypes.byref(minel), ctypes.byref(maxel), size)\n",
        "\n",
        "print(input_gpu)\n",
        "print(np.float32(minel))\n",
        "print(np.float32(maxel))"
      ],
      "metadata": {
        "colab": {
          "base_uri": "https://localhost:8080/"
        },
        "id": "peCWezQh_QUk",
        "outputId": "5c39f0f6-61cb-4315-decc-e1450d332b1a"
      },
      "execution_count": 28,
      "outputs": [
        {
          "output_type": "stream",
          "name": "stdout",
          "text": [
            "[ 3.  1. 33. -4.]\n",
            "-4.0\n",
            "33.0\n"
          ]
        }
      ]
    }
  ]
}
