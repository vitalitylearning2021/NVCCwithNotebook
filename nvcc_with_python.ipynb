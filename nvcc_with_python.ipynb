{
  "nbformat": 4,
  "nbformat_minor": 0,
  "metadata": {
    "colab": {
      "name": "nvcc_with_python.ipynb",
      "provenance": []
    },
    "kernelspec": {
      "name": "python3",
      "display_name": "Python 3"
    },
    "language_info": {
      "name": "python"
    },
    "accelerator": "GPU"
  },
  "cells": [
    {
      "cell_type": "markdown",
      "source": [
        "https://stackoverflow.com/questions/56854243/how-to-link-the-libraries-when-executing-cuda-program-on-google-colab"
      ],
      "metadata": {
        "id": "__s6dJzdVqyN"
      }
    },
    {
      "cell_type": "code",
      "execution_count": null,
      "metadata": {
        "colab": {
          "base_uri": "https://localhost:8080/"
        },
        "id": "y5z0d0puAD0G",
        "outputId": "89670238-522f-4f97-f7fa-2f753e8e2433"
      },
      "outputs": [
        {
          "output_type": "stream",
          "name": "stdout",
          "text": [
            "Collecting git+git://github.com/andreinechaev/nvcc4jupyter.git\n",
            "  Cloning git://github.com/andreinechaev/nvcc4jupyter.git to /tmp/pip-req-build-aly7y7om\n",
            "  Running command git clone -q git://github.com/andreinechaev/nvcc4jupyter.git /tmp/pip-req-build-aly7y7om\n",
            "Building wheels for collected packages: NVCCPlugin\n",
            "  Building wheel for NVCCPlugin (setup.py) ... \u001b[?25l\u001b[?25hdone\n",
            "  Created wheel for NVCCPlugin: filename=NVCCPlugin-0.0.2-py3-none-any.whl size=4306 sha256=ed2e1ec28c17bf11c971bd777cf7263df209f8acdbccf82c8859b384e7e883fc\n",
            "  Stored in directory: /tmp/pip-ephem-wheel-cache-h5izsokr/wheels/c5/2b/c0/87008e795a14bbcdfc7c846a00d06981916331eb980b6c8bdf\n",
            "Successfully built NVCCPlugin\n",
            "Installing collected packages: NVCCPlugin\n",
            "Successfully installed NVCCPlugin-0.0.2\n"
          ]
        }
      ],
      "source": [
        "!pip install git+git://github.com/andreinechaev/nvcc4jupyter.git"
      ]
    },
    {
      "cell_type": "code",
      "source": [
        "%load_ext nvcc_plugin"
      ],
      "metadata": {
        "id": "tfLnaj4VAMTA",
        "colab": {
          "base_uri": "https://localhost:8080/"
        },
        "outputId": "abd286af-e67d-4ed2-c13c-a1deffde70ff"
      },
      "execution_count": null,
      "outputs": [
        {
          "output_type": "stream",
          "name": "stdout",
          "text": [
            "created output directory at /content/src\n",
            "Out bin /content/result.out\n"
          ]
        }
      ]
    },
    {
      "cell_type": "code",
      "source": [
        "%%cuda --name my_curand.cu \n",
        "/*\n",
        " * This program uses the host CURAND API to generate 100 \n",
        " * pseudorandom floats.\n",
        " */\n",
        "#include <stdio.h>\n",
        "#include <stdlib.h>\n",
        "#include <cuda.h>\n",
        "#include <curand.h>\n",
        "\n",
        "#define CUDA_CALL(x) do { if((x)!=cudaSuccess) { \\\n",
        "    printf(\"Error at %s:%d\\n\",__FILE__,__LINE__);\\\n",
        "    return EXIT_FAILURE;}} while(0)\n",
        "#define CURAND_CALL(x) do { if((x)!=CURAND_STATUS_SUCCESS) { \\\n",
        "    printf(\"Error at %s:%d\\n\",__FILE__,__LINE__);\\\n",
        "    return EXIT_FAILURE;}} while(0)\n",
        "\n",
        "int main(int argc, char *argv[])\n",
        "{\n",
        "    size_t n = 100;\n",
        "    size_t i;\n",
        "    curandGenerator_t gen;\n",
        "    float *devData, *hostData;\n",
        "\n",
        "    /* Allocate n floats on host */\n",
        "    hostData = (float *)calloc(n, sizeof(float));\n",
        "\n",
        "    /* Allocate n floats on device */\n",
        "    CUDA_CALL(cudaMalloc((void **)&devData, n*sizeof(float)));\n",
        "\n",
        "    /* Create pseudo-random number generator */\n",
        "    CURAND_CALL(curandCreateGenerator(&gen, \n",
        "                CURAND_RNG_PSEUDO_DEFAULT));\n",
        "\n",
        "    /* Set seed */\n",
        "    CURAND_CALL(curandSetPseudoRandomGeneratorSeed(gen, \n",
        "                1234ULL));\n",
        "\n",
        "    /* Generate n floats on device */\n",
        "    CURAND_CALL(curandGenerateUniform(gen, devData, n));\n",
        "\n",
        "    /* Copy device memory to host */\n",
        "    CUDA_CALL(cudaMemcpy(hostData, devData, n * sizeof(float),\n",
        "        cudaMemcpyDeviceToHost));\n",
        "\n",
        "    /* Show result */\n",
        "    for(i = 0; i < n; i++) {\n",
        "        printf(\"%1.4f \", hostData[i]);\n",
        "    }\n",
        "    printf(\"\\n\");\n",
        "\n",
        "    /* Cleanup */\n",
        "    CURAND_CALL(curandDestroyGenerator(gen));\n",
        "    CUDA_CALL(cudaFree(devData));\n",
        "    free(hostData);    \n",
        "    return EXIT_SUCCESS;\n",
        "}"
      ],
      "metadata": {
        "colab": {
          "base_uri": "https://localhost:8080/",
          "height": 35
        },
        "id": "IOSG-sYgAXR_",
        "outputId": "40085f65-e54c-4088-e944-c2bd414de844"
      },
      "execution_count": null,
      "outputs": [
        {
          "output_type": "execute_result",
          "data": {
            "application/vnd.google.colaboratory.intrinsic+json": {
              "type": "string"
            },
            "text/plain": [
              "'File written in /content/src/my_curand.cu'"
            ]
          },
          "metadata": {},
          "execution_count": 3
        }
      ]
    },
    {
      "cell_type": "code",
      "source": [
        "!nvcc -o /content/src/my_curand /content/src/my_curand.cu -lcurand"
      ],
      "metadata": {
        "id": "Agb7d_xVBt6Y"
      },
      "execution_count": null,
      "outputs": []
    },
    {
      "cell_type": "code",
      "source": [
        "!/content/src/my_curand"
      ],
      "metadata": {
        "colab": {
          "base_uri": "https://localhost:8080/"
        },
        "id": "sK66uK0fB7a-",
        "outputId": "e919bb6f-dddb-4b03-db2c-553058df59b3"
      },
      "execution_count": null,
      "outputs": [
        {
          "output_type": "stream",
          "name": "stdout",
          "text": [
            "0.1455 0.8202 0.5504 0.2948 0.9147 0.8690 0.3219 0.7829 0.0113 0.2855 0.7816 0.2338 0.6791 0.2824 0.6299 0.1212 0.4333 0.3831 0.5136 0.2987 0.4166 0.0345 0.0494 0.0467 0.6166 0.6480 0.8685 0.4012 0.0631 0.4972 0.6809 0.9350 0.0704 0.0458 0.1324 0.3785 0.6457 0.9930 0.9952 0.7677 0.3217 0.8210 0.2765 0.2691 0.4579 0.1969 0.9555 0.8739 0.7996 0.3810 0.6662 0.3153 0.9428 0.5006 0.3369 0.1490 0.8637 0.6191 0.6820 0.4573 0.9261 0.5650 0.7117 0.8252 0.8755 0.2216 0.2958 0.4046 0.3896 0.7335 0.7301 0.8154 0.0913 0.0866 0.6974 0.1811 0.5834 0.9255 0.9029 0.0413 0.9522 0.5507 0.7237 0.3976 0.7519 0.4398 0.4638 0.6094 0.7358 0.3272 0.6961 0.4893 0.9698 0.0456 0.2025 0.9491 0.1516 0.0424 0.6149 0.5638 \n"
          ]
        }
      ]
    }
  ]
}